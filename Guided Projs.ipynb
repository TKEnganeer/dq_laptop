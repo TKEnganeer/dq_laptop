{
 "cells": [
  {
   "cell_type": "markdown",
   "metadata": {},
   "source": [
    "# Project: Building Fast Queries on a CSV\n",
    "*This is my 2nd project from dataquest where I use time and space complexity algorithms to analyze the inventory of a online laptop store* "
   ]
  },
  {
   "cell_type": "markdown",
   "metadata": {},
   "source": [
    "## Reading the Inventory\n",
    "The csv module was used to read the laptops.csv file and separate the header from the rest of the rows with the data."
   ]
  },
  {
   "cell_type": "code",
   "execution_count": 2,
   "metadata": {},
   "outputs": [
    {
     "name": "stdout",
     "output_type": "stream",
     "text": [
      "Row headers = ['Id', 'Company', 'Product', 'TypeName', 'Inches', 'ScreenResolution', 'Cpu', 'Ram', 'Memory', 'Gpu', 'OpSys', 'Weight', 'Price']\n",
      "\n",
      "\n",
      "The first 5 rows of data from the laptop csv file are as follows:\n",
      "['6571244', 'Apple', 'MacBook Pro', 'Ultrabook', '13.3', 'IPS Panel Retina Display 2560x1600', 'Intel Core i5 2.3GHz', '8GB', '128GB SSD', 'Intel Iris Plus Graphics 640', 'macOS', '1.37kg', '1339']\n",
      "['7287764', 'Apple', 'Macbook Air', 'Ultrabook', '13.3', '1440x900', 'Intel Core i5 1.8GHz', '8GB', '128GB Flash Storage', 'Intel HD Graphics 6000', 'macOS', '1.34kg', '898']\n",
      "['3362737', 'HP', '250 G6', 'Notebook', '15.6', 'Full HD 1920x1080', 'Intel Core i5 7200U 2.5GHz', '8GB', '256GB SSD', 'Intel HD Graphics 620', 'No OS', '1.86kg', '575']\n",
      "['9722156', 'Apple', 'MacBook Pro', 'Ultrabook', '15.4', 'IPS Panel Retina Display 2880x1800', 'Intel Core i7 2.7GHz', '16GB', '512GB SSD', 'AMD Radeon Pro 455', 'macOS', '1.83kg', '2537']\n",
      "['8550527', 'Apple', 'MacBook Pro', 'Ultrabook', '13.3', 'IPS Panel Retina Display 2560x1600', 'Intel Core i5 3.1GHz', '8GB', '256GB SSD', 'Intel Iris Plus Graphics 650', 'macOS', '1.37kg', '1803']\n"
     ]
    }
   ],
   "source": [
    "# Part 1\n",
    "import csv\n",
    "with open('C:/Users/TimKa/OneDrive/Data Eng Study/Guided Projs/laptops.csv') as file:\n",
    "    row = list(csv.reader(file))\n",
    "    header = row[0]\n",
    "    rows = row[1:]\n",
    "    \n",
    "    print(\"Row headers =\", header)\n",
    "    print(\"\\n\")\n",
    "    print(\"The first 5 rows of data from the laptop csv file are as follows:\")\n",
    "    for i in range(5):\n",
    "        print(rows[i])\n",
    "    #print(rows[:5])"
   ]
  },
  {
   "cell_type": "markdown",
   "metadata": {},
   "source": [
    "## Creating the Inventory Class\n",
    "\n",
    "I used a class to represent the inventory, by getting the name of the CSV file as argument and reading it into self.header and self.rows."
   ]
  },
  {
   "cell_type": "code",
   "execution_count": 3,
   "metadata": {},
   "outputs": [
    {
     "name": "stdout",
     "output_type": "stream",
     "text": [
      "['Id', 'Company', 'Product', 'TypeName', 'Inches', 'ScreenResolution', 'Cpu', 'Ram', 'Memory', 'Gpu', 'OpSys', 'Weight', 'Price']\n",
      "\n",
      "\n",
      "Besides from the header there are 1303 rows of data.\n"
     ]
    }
   ],
   "source": [
    "# Part 2\n",
    "class Inventory():\n",
    "    def __init__(self, csv_filename):\n",
    "        with open('C:/Users/TimKa/OneDrive/Data Eng Study/Guided Projs/laptops.csv') as file:\n",
    "            row = list(csv.reader(file)) # step 3\n",
    "            self.header = row[0]\n",
    "            self.rows = row[1:] # step 4\n",
    "            for row in self.rows:\n",
    "                row[-1] = int(row[-1]) # step 5\n",
    "\n",
    "Inventory('C:/Users/TimKa/OneDrive/Data Eng Study/Guided Projs/laptops.csv') #step 6\n",
    "\n",
    "print(header) #step 7\n",
    "print(\"\\n\")\n",
    "print(\"Besides from the header there are\", len(rows), \"rows of data.\")# step 8"
   ]
  },
  {
   "cell_type": "markdown",
   "metadata": {},
   "source": [
    "## Searching for Laptops by the ID column\n",
    "Using the get_laptop_from_id() function that that will return the laptop details for a given identifier."
   ]
  },
  {
   "cell_type": "code",
   "execution_count": 4,
   "metadata": {},
   "outputs": [
    {
     "name": "stdout",
     "output_type": "stream",
     "text": [
      "['3362737', 'HP', '250 G6', 'Notebook', '15.6', 'Full HD 1920x1080', 'Intel Core i5 7200U 2.5GHz', '8GB', '256GB SSD', 'Intel HD Graphics 620', 'No OS', '1.86kg', 575]\n",
      "None\n"
     ]
    }
   ],
   "source": [
    "# Part 3\n",
    "class Inventory():\n",
    "    \n",
    "    def __init__(self, csv_filename):\n",
    "        with open('C:/Users/TimKa/OneDrive/Data Eng Study/Guided Projs/laptops.csv') as file:\n",
    "            rows = list(csv.reader(file)) \n",
    "            self.header = rows[0]\n",
    "            self.rows = rows[1:] \n",
    "            for row in self.rows:\n",
    "                row[-1] = int(row[-1]) \n",
    "    \n",
    "    def get_laptop_from_id(self, laptop_id):    # step 1\n",
    "        for row in self.rows: #step 2\n",
    "            if row[0] == laptop_id:\n",
    "                return row \n",
    "        return None    # step 3\n",
    "            \n",
    "    \n",
    "inventory = Inventory('C:/Users/TimKa/OneDrive/Data Eng Study/Guided Projs/laptops.csv') #step 4\n",
    "\n",
    "print(inventory.get_laptop_from_id('3362737')) # step 5\n",
    "print(inventory.get_laptop_from_id('3362736')) # step 6"
   ]
  },
  {
   "cell_type": "markdown",
   "metadata": {},
   "source": [
    "## Improving the ID lookup \n",
    "\n",
    "I improved the time complexity of the algorthm (get_laptop_from_id_fast) by finding a laptop with a given id by firstly precomputing a dictionary in the init constructor that maps laptop ids to rows."
   ]
  },
  {
   "cell_type": "code",
   "execution_count": 5,
   "metadata": {},
   "outputs": [
    {
     "name": "stdout",
     "output_type": "stream",
     "text": [
      "['3362737', 'HP', '250 G6', 'Notebook', '15.6', 'Full HD 1920x1080', 'Intel Core i5 7200U 2.5GHz', '8GB', '256GB SSD', 'Intel HD Graphics 620', 'No OS', '1.86kg', 575]\n",
      "None\n"
     ]
    }
   ],
   "source": [
    "# Page 4\n",
    "class Inventory():\n",
    "    \n",
    "    def __init__(self, csv_filename):\n",
    "        with open('C:/Users/TimKa/OneDrive/Data Eng Study/Guided Projs/laptops.csv') as file:\n",
    "            rows = list(csv.reader(file)) \n",
    "            self.header = rows[0]\n",
    "            self.rows = rows[1:] \n",
    "            for row in self.rows:\n",
    "                row[-1] = int(row[-1]) \n",
    "            \n",
    "            self.id_to_row = {} #step 1.\n",
    "            for row in self.rows:\n",
    "                self.id_to_row[row[0]]= row # step 2\n",
    "    \n",
    "    def get_laptop_from_id(self, laptop_id):    \n",
    "        for row in self.rows: \n",
    "            if row[0] == laptop_id:\n",
    "                return row \n",
    "        return None    \n",
    "    \n",
    "    def get_laptop_from_id_fast(self, laptop_id): # step 3\n",
    "        if laptop_id in self.id_to_row: # step 4.1\n",
    "                return self.id_to_row[laptop_id]\n",
    "        return None # step 4.2\n",
    "      \n",
    "inventory = Inventory('C:/Users/TimKa/OneDrive/Data Eng Study/Guided Projs/laptops.csv') #step 5\n",
    "\n",
    "# Testing the code\n",
    "\n",
    "print(inventory.get_laptop_from_id_fast('3362737')) # step 6\n",
    "\n",
    "print(inventory.get_laptop_from_id('3362736')) # step 7"
   ]
  },
  {
   "cell_type": "markdown",
   "metadata": {},
   "source": [
    "## Comparing the Time Complexity Performance\n",
    "\n",
    "Comparing the performance of get_laptop_from_id() vs get_laptop_from_id_fast() method."
   ]
  },
  {
   "cell_type": "code",
   "execution_count": 6,
   "metadata": {},
   "outputs": [
    {
     "name": "stdout",
     "output_type": "stream",
     "text": [
      "1.4132165908813477\n",
      "0.007996320724487305\n"
     ]
    }
   ],
   "source": [
    "# Part 5\n",
    "\n",
    "import time # step 1\n",
    "import random # step 2\n",
    " \n",
    "ids = [str(random.randint(1000000,9999999)) for _ in range(10000)]\n",
    "\n",
    "inventory = Inventory('C:/Users/TimKa/OneDrive/Data Eng Study/Guided Projs/laptops.csv') #step 4\n",
    "\n",
    "total_time_no_dict = 0 # step 5\n",
    "for str_numb in ids:\n",
    "    start = time.time()\n",
    "    inventory.get_laptop_from_id(str_numb)\n",
    "    end = time.time()\n",
    "    elapsed = end - start\n",
    "    total_time_no_dict += elapsed # step 6.4\n",
    "\n",
    "total_time_dict = 0 # step 7\n",
    "for str_numb in ids:\n",
    "    start = time.time()\n",
    "    inventory.get_laptop_from_id_fast(str_numb)\n",
    "    end = time.time()\n",
    "    elapsed = end - start\n",
    "    total_time_dict += elapsed\n",
    "    \n",
    "print(total_time_no_dict) #step 9\n",
    "print(total_time_dict)"
   ]
  },
  {
   "cell_type": "markdown",
   "metadata": {},
   "source": [
    "## Analysis (Part 5)\n",
    "\n",
    "I got:\n",
    "\n",
    "0.5790674686431885\n",
    "0.001993417739868164\n",
    "\n",
    "There is clearly an improved performance between the two functions. The fast method is over 304 times faster then the get_laptop_from_id() function. \n",
    "\n",
    "## Two Laptop Promotion Method\n",
    "\n",
    "In this part I createed a method to determine whether a person can spend a given amount of money by purchasing either one or two laptops.\n"
   ]
  },
  {
   "cell_type": "code",
   "execution_count": 7,
   "metadata": {},
   "outputs": [
    {
     "name": "stdout",
     "output_type": "stream",
     "text": [
      "Please input your dollar amount 1:1000\n",
      "True\n",
      "Please input your dollar amount 2:442\n",
      "False\n"
     ]
    }
   ],
   "source": [
    "# Part 6\n",
    "\n",
    "class Inventory():\n",
    "    \n",
    "    def __init__(self, csv_filename):\n",
    "        with open(csv_filename) as file:\n",
    "            rows = list(csv.reader(file)) \n",
    "            self.header = rows[0]\n",
    "            self.rows = rows[1:] \n",
    "            for row in self.rows:\n",
    "                row[-1] = int(row[-1]) \n",
    "            self.id_to_row = {} #step 1.\n",
    "            for row in self.rows:\n",
    "                self.id_to_row[row[0]]= row # step 2\n",
    "    \n",
    "    def get_laptop_from_id(self, laptop_id):    \n",
    "        for row in self.rows: \n",
    "            if row[0] == laptop_id:\n",
    "                return row \n",
    "        return None    \n",
    "    \n",
    "    def get_laptop_from_id_fast(self, laptop_id): # step 3\n",
    "        if laptop_id in self.id_to_row: \n",
    "                return self.id_to_row[laptop_id]\n",
    "        return None\n",
    "    \n",
    "    def check_promotion_dollars(self, dollars):   # step 1\n",
    "        for row in self.rows:\n",
    "            if  row[-1] == dollars:\n",
    "                return True                       # step 2\n",
    "        for price in self.rows:\n",
    "            for price_two in self.rows:\n",
    "                if price[-1] + price_two[-1] == dollars:\n",
    "                    return True                   # step 3\n",
    "        return False                              # step 4\n",
    "    \n",
    "    \n",
    "inventory = Inventory('C:/Users/TimKa/OneDrive/Data Eng Study/Guided Projs/laptops.csv') #step 5\n",
    "\n",
    "# Test code\n",
    "\n",
    "inventory = Inventory('C:/Users/TimKa/OneDrive/Data Eng Study/Guided Projs/laptops.csv') #step 5\n",
    "dollars_1 = int(input(\"Please input your dollar amount 1:\"))\n",
    "print(inventory.check_promotion_dollars(dollars_1)) # step 8\n",
    "dollars_2 = int(input(\"Please input your dollar amount 2:\"))\n",
    "print(inventory.check_promotion_dollars(dollars_2)) # step 9"
   ]
  },
  {
   "cell_type": "markdown",
   "metadata": {},
   "source": [
    "## Improving laptop promotion algorithm\n",
    "\n",
    "I created a faster version of the promotion method."
   ]
  },
  {
   "cell_type": "code",
   "execution_count": 8,
   "metadata": {},
   "outputs": [
    {
     "name": "stdout",
     "output_type": "stream",
     "text": [
      "Please input your dollar amount 1:1000\n",
      "True\n",
      "Please input your dollar amount 2:442\n",
      "False\n"
     ]
    }
   ],
   "source": [
    "# Part 7\n",
    "\n",
    "class Inventory():                    \n",
    "    \n",
    "    def __init__(self, csv_filename):\n",
    "        with open(csv_filename) as f: \n",
    "            reader = csv.reader(f)\n",
    "            rows = list(reader)\n",
    "        self.header = rows[0]        \n",
    "        self.rows = rows[1:]\n",
    "        for row in self.rows:              \n",
    "            row[-1] = int(row[-1])\n",
    "        self.id_to_row = {}                        \n",
    "        for row in self.rows:                       \n",
    "            self.id_to_row[row[0]] = row\n",
    "        self.prices = set()                          # step 1\n",
    "        for row in self.rows:                        # step 2\n",
    "            self.prices.add(row[-1])\n",
    "    \n",
    "    def get_laptop_from_id(self, laptop_id):\n",
    "        for row in self.rows:                 \n",
    "            if row[0] == laptop_id:\n",
    "                return row\n",
    "        return None   \n",
    "    \n",
    "    def get_laptop_from_id_fast(self, laptop_id):  \n",
    "        if laptop_id in self.id_to_row:           \n",
    "            return self.id_to_row[laptop_id]\n",
    "        return None\n",
    "\n",
    "    def check_promotion_dollars(self, dollars):    \n",
    "        for row in self.rows:                   \n",
    "            if row[-1] == dollars:\n",
    "                return True\n",
    "        for row1 in self.rows:                  \n",
    "            for row2 in self.rows:\n",
    "                if row1[-1] + row2[-1] == dollars:\n",
    "                    return True\n",
    "        return False                        \n",
    "    \n",
    "    def check_promotion_dollars_fast(self, dollars): # step 3\n",
    "        if dollars in self.prices:                   # step 4\n",
    "            return True\n",
    "        for price in self.prices:                    # step 5\n",
    "            if dollars - price in self.prices:\n",
    "                return True\n",
    "        return False                                 # step 6\n",
    "\n",
    "# Test code\n",
    "inventory = Inventory('C:/Users/TimKa/OneDrive/Data Eng Study/Guided Projs/laptops.csv') #step 5\n",
    "dollars_1 = int(input(\"Please input your dollar amount 1:\"))\n",
    "print(inventory.check_promotion_dollars_fast(dollars_1)) # step 8\n",
    "dollars_2 = int(input(\"Please input your dollar amount 2:\"))\n",
    "print(inventory.check_promotion_dollars_fast(dollars_2)) # step 9\n"
   ]
  },
  {
   "cell_type": "markdown",
   "metadata": {},
   "source": [
    "## Comparing the Time Complexity Performance\n",
    "\n",
    "Comparing the performance of check_promotion_dollars() vs check_promotion_dollars_fast() method."
   ]
  },
  {
   "cell_type": "code",
   "execution_count": 9,
   "metadata": {},
   "outputs": [
    {
     "name": "stdout",
     "output_type": "stream",
     "text": [
      "1.2614798545837402\n",
      "0.0\n"
     ]
    }
   ],
   "source": [
    "# Part 8\n",
    "\n",
    "prices = [random.randint(100,5000) for _ in range(100)] # step 1\n",
    "\n",
    "inventory = Inventory('laptops.csv') # step 2\n",
    "\n",
    "total_time_no_set = 0 # step 3\n",
    "\n",
    "for value in prices:\n",
    "    start = time.time()               # 4.1\n",
    "    inventory.check_promotion_dollars(value)    # 4.2\n",
    "    end = time.time()                 # 4.3\n",
    "    total_time_no_set += (end-start) # 4.4\n",
    "    \n",
    "total_time_set = 0 # step 5\n",
    "for value in prices:\n",
    "    start = time.time()\n",
    "    inventory.check_promotion_dollars_fast(value)\n",
    "    end = time.time()\n",
    "    total_time_set += (end-start)\n",
    "    \n",
    "\n",
    "print(total_time_no_set) # step 6\n",
    "\n",
    "print(total_time_set) # step 7"
   ]
  },
  {
   "cell_type": "markdown",
   "metadata": {},
   "source": [
    "## Analysis (Part 8)\n",
    "I got:\n",
    "\n",
    "- 0.9847149848937988 seconds - **check_promotion_dollars()** \n",
    "- 0.0009975433349609375 seconds - **check_promotion_dollars_fast()** \n",
    "\n",
    "There is another clear an improvement in performance between the two functions. The fast method is over 1000 times faster then the get_laptop_from_id() function. If this was multiplied of millions of lines of data it would save me a considrable amount of time.\n",
    "\n",
    "## Finding Laptops within a budget\n",
    "\n",
    "I implemented a method to find the first index value of a laptop overa given price using a sorting algorithm. "
   ]
  },
  {
   "cell_type": "code",
   "execution_count": 10,
   "metadata": {},
   "outputs": [
    {
     "name": "stdout",
     "output_type": "stream",
     "text": [
      "683\n",
      "No laptop over this price can be found.\n",
      "(-1, None)\n"
     ]
    }
   ],
   "source": [
    "# Part 9\n",
    "\n",
    "def row_price(row):\n",
    "    return row[-1]\n",
    "\n",
    "class Inventory():\n",
    "    \n",
    "    def __init__(self, csv_filename):\n",
    "        with open('C:/Users/TimKa/OneDrive/Data Eng Study/Guided Projs/laptops.csv') as file:\n",
    "            rows = list(csv.reader(file)) \n",
    "            self.header = rows[0]\n",
    "            self.rows = rows[1:] \n",
    "            for row in self.rows:\n",
    "                row[-1] = int(row[-1]) \n",
    "            \n",
    "            self.id_to_row = {} \n",
    "            for row in self.rows:\n",
    "                self.id_to_row[row[0]]= row \n",
    "            \n",
    "            self.prices = set() #step 1\n",
    "            for row in self.rows: # the row has stored the data for each laptop as a list\n",
    "                self.prices.add(row[-1]) # step 2\n",
    "            \n",
    "            self.rows_by_price = sorted(self.rows, key=row_price)\n",
    "\n",
    "\n",
    "    def get_laptop_from_id(self, laptop_id):    \n",
    "        for row in self.rows: \n",
    "            if row[0] == laptop_id:\n",
    "                return row \n",
    "        return None    \n",
    "    \n",
    "    def get_laptop_from_id_fast(self, laptop_id): \n",
    "        if laptop_id in self.id_to_row: \n",
    "                return self.id_to_row[laptop_id]\n",
    "        return None\n",
    "    \n",
    "    def check_promotion_dollars(self, dollars):   \n",
    "        for row in self.rows:\n",
    "            if  row[-1] == dollars:\n",
    "                return True                     \n",
    "        for price in self.rows:\n",
    "            for price_two in self.rows:\n",
    "                if price[-1] + price_two[-1] == dollars:\n",
    "                    return True                   \n",
    "        return False                            \n",
    "    \n",
    "    def check_promotion_dollars_fast(self, dollars):\n",
    "        if dollars in self.prices:\n",
    "            return True\n",
    "        for price in self.prices:\n",
    "            if dollars - price in self.prices:\n",
    "                return True                   \n",
    "        return False\n",
    "    \n",
    "    def find_first_laptop_more_expensive(self, target_price):\n",
    "        range_start = 0                                   \n",
    "        range_end = len(self.rows_by_price) - 1                       \n",
    "        while range_start < range_end:\n",
    "            range_middle = (range_end + range_start) // 2  \n",
    "            price = self.rows_by_price[range_middle][-1]\n",
    "            if price > target_price:                            \n",
    "                range_end = range_middle                                   \n",
    "            else:                                          \n",
    "                range_start = range_middle + 1 \n",
    "        if self.rows_by_price[range_start][-1] < target_price:                  \n",
    "            return -1, print(\"No laptop over this price can be found.\")                                      \n",
    "        return range_start\n",
    "        \n",
    "        \n",
    "inventory = Inventory('C:/Users/TimKa/OneDrive/Data Eng Study/Guided Projs/laptops.csv')\n",
    "\n",
    "print(inventory.find_first_laptop_more_expensive(1000))\n",
    "print(inventory.find_first_laptop_more_expensive(10000)) # No laptop under this price can be found"
   ]
  },
  {
   "cell_type": "markdown",
   "metadata": {},
   "source": [
    "## Finding Laptops within a budget range \n",
    "\n",
    "I extended the budget query to take as input a range of prices - min_price and max_price. I wrote a query that finds all laptops in the CSV file which prices lie within the given range."
   ]
  },
  {
   "cell_type": "code",
   "execution_count": 19,
   "metadata": {
    "scrolled": true
   },
   "outputs": [],
   "source": [
    "\n",
    "\n",
    "class Inventory():\n",
    "    \n",
    "    def __init__(self, csv_filename):\n",
    "        with open('C:/Users/TimKa/OneDrive/Data Eng Study/Guided Projs/laptops.csv') as file:\n",
    "            rows = list(csv.reader(file)) \n",
    "            self.header = rows[0]\n",
    "            self.rows = rows[1:] \n",
    "            for row in self.rows:\n",
    "                row[-1] = int(row[-1]) \n",
    "            \n",
    "            self.id_to_row = {} \n",
    "            self.prices = set()\n",
    "            for row in self.rows:\n",
    "                row[-1] = int(row[-1])\n",
    "                self.id_to_row[row[0]]= row \n",
    "                self.prices.add(row[-1]) # step 2\n",
    "            \n",
    "            self.rows_by_price = sorted(self.rows, key=row_price)    \n",
    "\n",
    "    def get_laptop_from_id(self, laptop_id):    \n",
    "        for row in self.rows: \n",
    "            if row[0] == laptop_id:\n",
    "                return row \n",
    "        return None    \n",
    "    \n",
    "    def get_laptop_from_id_fast(self, laptop_id): \n",
    "        if laptop_id in self.id_to_row: \n",
    "                return self.id_to_row[laptop_id]\n",
    "        return None\n",
    "    \n",
    "    def check_promotion_dollars(self, dollars):   \n",
    "        for row in self.rows:\n",
    "            if  row[-1] == dollars:\n",
    "                return True                     \n",
    "        for price in self.rows:\n",
    "            for price_two in self.rows:\n",
    "                if price[-1] + price_two[-1] == dollars:\n",
    "                    return True                   \n",
    "        return False                            \n",
    "    \n",
    "    def check_promotion_dollars_fast(self, dollars):\n",
    "        if dollars in self.prices:\n",
    "            return True\n",
    "        for price in self.prices:\n",
    "            if dollars - price in self.prices:\n",
    "                return True                   \n",
    "        return False\n",
    "    \n",
    "    def find_first_laptop_more_expensive(self, target_price):\n",
    "        range_start = 0                                   \n",
    "        range_end = len(self.rows_by_price) - 1                       \n",
    "        while range_start < range_end:\n",
    "            range_middle = (range_end + range_start) // 2  \n",
    "            price = self.rows_by_price[range_middle][-1]\n",
    "            if price > target_price:                            \n",
    "                range_end = range_middle                                   \n",
    "            else:                                          \n",
    "                range_start = range_middle + 1 \n",
    "        if self.rows_by_price[range_start][-1] < target_price:                  \n",
    "            return -1                                      \n",
    "        return range_start\n",
    "    \n",
    "    def check_range_fast(self, min_price, max_price):\n",
    "        lt_in_range = []\n",
    "        for row in self.rows_by_price:\n",
    "            if max_price >= row[-1] >= min_price: \n",
    "                lt_in_range.append(row)\n",
    "        return lt_in_range"
   ]
  },
  {
   "cell_type": "code",
   "execution_count": 21,
   "metadata": {
    "scrolled": true
   },
   "outputs": [
    {
     "name": "stdout",
     "output_type": "stream",
     "text": [
      "[['7260172', 'Vero', 'K146 (N3350/4GB/32GB/W10)', 'Notebook', '14', '1920x1080', 'Intel Celeron Dual Core N3350 1.1GHz', '4GB', '32GB Flash Storage', 'Intel HD Graphics 500', 'Windows 10', '1.22kg', 202], ['2981902', 'Acer', 'Chromebook 15', 'Notebook', '15.6', '1366x768', 'Intel Celeron Dual Core 3205U 1.5GHz', '4GB', '16GB SSD', 'Intel HD Graphics', 'Chrome OS', '2.20kg', 209], ['8653550', 'HP', 'Stream 11-Y000na', 'Netbook', '11.6', '1366x768', 'Intel Celeron Dual Core N3060 1.6GHz', '2GB', '32GB Flash Storage', 'Intel HD Graphics 400', 'Windows 10', '1.17kg', 209], ['4141479', 'HP', 'Stream 11-Y000na', 'Netbook', '11.6', '1366x768', 'Intel Celeron Dual Core N3060 1.6GHz', '2GB', '32GB Flash Storage', 'Intel HD Graphics 400', 'Windows 10', '1.17kg', 209], ['9962421', 'HP', 'Stream 11-Y000na', 'Netbook', '11.6', '1366x768', 'Intel Celeron Dual Core N3060 1.6GHz', '2GB', '32GB Flash Storage', 'Intel HD Graphics 400', 'Windows 10', '1.17kg', 209], ['7673693', 'Vero', 'V142 (X5-Z8350/2GB/32GB/W10)', 'Notebook', '14', '1366x768', 'Intel Atom X5-Z8350 1.44GHz', '2GB', '32GB Flash Storage', 'Intel HD Graphics 400', 'Windows 10', '1.45kg', 210], ['7356172', 'Asus', 'A541NA-GO342 (N3350/4GB/500GB/Linux)', 'Notebook', '15.6', '1366x768', 'Intel Celeron Dual Core N3350 1.1GHz', '4GB', '500GB HDD', 'Intel HD Graphics 500', 'Linux', '2kg', 224], ['9775124', 'HP', 'Stream 14-AX040wm', 'Notebook', '14', '1366x768', 'Intel Celeron Dual Core N3060 1.6GHz', '4GB', '32GB SSD', 'Intel HD Graphics 400', 'Windows 10', '1.44kg', 229], ['6539218', 'Lenovo', 'IdeaPad 100S-14IBR', 'Notebook', '14', '1366x768', 'Intel Celeron Dual Core N3050 1.6GHz', '2GB', '64GB Flash Storage', 'Intel HD Graphics', 'Windows 10', '1.5kg', 229], ['2456795', 'Lenovo', 'IdeaPad 100S-14IBR', 'Notebook', '14', '1366x768', 'Intel Celeron Dual Core N3050 1.6GHz', '2GB', '64GB Flash Storage', 'Intel HD Graphics', 'Windows 10', '1.5kg', 229], ['9789209', 'Lenovo', 'IdeaPad 100S-14IBR', 'Notebook', '14', '1366x768', 'Intel Celeron Dual Core N3050 1.6GHz', '2GB', '64GB Flash Storage', 'Intel HD Graphics', 'Windows 10', '1.5kg', 229], ['7513312', 'Mediacom', 'SmartBook 140', 'Notebook', '14', 'Full HD 1920x1080', 'Intel Atom x5-Z8350 1.44GHz', '2GB', '32GB Flash Storage', 'Intel HD Graphics', 'Windows 10', '1.4kg', 239], ['9141192', 'Chuwi', 'LapBook 15.6\"', 'Notebook', '15.6', 'Full HD 1920x1080', 'Intel Atom x5-Z8300 1.44GHz', '4GB', '64GB Flash Storage', 'Intel HD Graphics', 'Windows 10', '1.89kg', 244], ['2675438', 'Asus', 'VivoBook E12', 'Netbook', '11.6', '1366x768', 'Intel Celeron Dual Core N3350 1.1GHz', '2GB', '32GB Flash Storage', 'Intel HD Graphics 500', 'Windows 10', '1.1kg', 245], ['9332618', 'Chuwi', 'Lapbook 15,6', 'Notebook', '15.6', 'Full HD 1920x1080', 'Intel Atom x5-Z8350 1.44GHz', '4GB', '64GB Flash Storage', 'Intel HD Graphics', 'Windows 10', '1.89kg', 248], ['6744545', 'Lenovo', 'IdeaPad 120S-14IAP', 'Notebook', '14', '1366x768', 'Intel Celeron Dual Core N3350 1.1GHz', '4GB', '64GB Flash Storage', 'Intel HD Graphics 500', 'Windows 10', '1.44kg', 249], ['4815557', 'Mediacom', 'SmartBook 141', 'Notebook', '14', 'Full HD 1920x1080', 'Intel Atom x5-Z8350 1.44GHz', '4GB', '32GB SSD', 'Intel HD Graphics', 'Windows 10', '1.4kg', 249], ['9525381', 'Lenovo', 'IdeaPad 100S-14IBR', 'Notebook', '14', '1366x768', 'Intel Celeron Dual Core N3060 1.6GHz', '2GB', '32GB Flash Storage', 'Intel HD Graphics 400', 'Windows 10', '1.42kg', 249], ['6614232', 'HP', 'Stream 14-AX000nv', 'Notebook', '14', '1366x768', 'Intel Celeron Dual Core N3060 1.6GHz', '2GB', '32GB Flash Storage', 'Intel HD Graphics 400', 'Windows 10', '1.44kg', 249], ['2775943', 'Lenovo', 'V110-15IAP (N3350/4GB/1TB/No', 'Notebook', '15.6', '1366x768', 'Intel Celeron Dual Core N3350 1.1GHz', '4GB', '1TB HDD', 'Intel HD Graphics 500', 'No OS', '1.9kg', 252], ['4919491', 'Mediacom', 'SmartBook 130', 'Notebook', '13.3', 'IPS Panel Full HD 1920x1080', 'Intel Atom x5-Z8350 1.44GHz', '4GB', '32GB Flash Storage', 'Intel HD Graphics', 'Windows 10', '1.35kg', 255], ['1690206', 'HP', '255 G6', 'Notebook', '15.6', '1366x768', 'AMD E-Series E2-9000e 1.5GHz', '4GB', '500GB HDD', 'AMD Radeon R2', 'No OS', '1.86kg', 258], ['1866113', 'HP', '250 G6', 'Notebook', '15.6', '1366x768', 'Intel Celeron Dual Core N3060 1.6GHz', '4GB', '500GB HDD', 'Intel HD Graphics 400', 'No OS', '1.86kg', 259], ['1422612', 'Vero', 'K147 (N3350/4GB/32GB/FHD/W10)', 'Notebook', '14', 'IPS Panel Full HD 1920x1080', 'Intel Celeron Dual Core N3350 1.1GHz', '4GB', '32GB Flash Storage', 'Intel HD Graphics 500', 'Windows 10', '1.3kg', 260], ['3853699', 'Lenovo', 'Chromebook N23', 'Netbook', '11.6', '1366x768', 'Intel Celeron Dual Core N3060 1.6GHz', '4GB', '16GB SSD', 'Intel HD Graphics 400', 'Chrome OS', '1.25kg', 265], ['4958325', 'Mediacom', 'Smartbook 142', 'Notebook', '14', 'IPS Panel Full HD 1920x1200', 'Intel Atom Z8350 1.92GHz', '4GB', '32GB HDD', 'Intel HD Graphics 400', 'Windows 10', '1.4kg', 265], ['4189305', 'Samsung', 'Chromebook 3', 'Netbook', '11.6', '1366x768', 'Intel Celeron Dual Core N3060 1.6GHz', '4GB', '16GB Flash Storage', 'Intel HD Graphics 400', 'Chrome OS', '1.15kg', 269], ['4605268', 'Acer', 'TravelMate B117-M', 'Netbook', '11.6', '1366x768', 'Intel Celeron Dual Core N3050 1.6GHz', '4GB', '32GB Flash Storage', 'Intel HD Graphics', 'Windows 10', '1.4kg', 269], ['4358139', 'Lenovo', 'V110-15IAP (N3350/4GB/128GB/No', 'Notebook', '15.6', '1366x768', 'Intel Celeron Dual Core N3350 1.1GHz', '4GB', '128GB SSD', 'Intel HD Graphics 500', 'No OS', '1.9kg', 270], ['1646292', 'Acer', 'Aspire 3', 'Notebook', '15.6', '1366x768', 'Intel Celeron Dual Core N3350 2GHz', '4GB', '1TB HDD', 'Intel HD Graphics 500', 'Linux', '2.1kg', 272], ['5704548', 'Asus', 'X541NA (N3350/4GB/1TB/Linux)', 'Notebook', '15.6', '1366x768', 'Intel Celeron Dual Core N3350 1.1GHz', '4GB', '1TB HDD', 'Intel HD Graphics 500', 'Linux', '2kg', 274], ['7057109', 'Dell', 'Inspiron 3552', 'Notebook', '15.6', '1366x768', 'Intel Celeron Dual Core N3060 1.6GHz', '4GB', '500GB HDD', 'Intel HD Graphics', 'Linux', '2.2kg', 274], ['4456903', 'Lenovo', 'IdeaPad 100S-14IBR', 'Notebook', '14', '1366x768', 'Intel Celeron Dual Core N3060 1.6GHz', '4GB', '32GB Flash Storage', 'Intel HD Graphics', 'Windows 10', '1.43kg', 274], ['1217964', 'Asus', 'VivoBook Flip', '2 in 1 Convertible', '11.6', 'Touchscreen 1366x768', 'Intel Celeron Dual Core N3350 1.1GHz', '2GB', '32GB Flash Storage', 'Intel HD Graphics 500', 'Windows 10', '1.1kg', 275], ['6381081', 'Asus', 'E402WA-GA007T (E2-6110/4GB/64GB/W10', 'Notebook', '14', '1366x768', 'AMD E-Series 6110 1.5GHz', '4GB', '64GB SSD', 'AMD Radeon R2', 'Windows 10 S', '1.65kg', 277], ['2738174', 'Asus', 'L403NA-GA013TS (N3350/4GB/32GB/W10)', 'Notebook', '14', '1366x768', 'Intel Celeron Dual Core N3350 1.1GHz', '4GB', '32GB Flash Storage', 'Intel HD Graphics 500', 'Windows 10', '1.5kg', 278], ['8357763', 'HP', 'Stream 14-AX001nv', 'Notebook', '14', '1366x768', 'Intel Celeron Dual Core N3060 1.6GHz', '2GB', '32GB Flash Storage', 'Intel HD Graphics 400', 'Windows 10', '1.44kg', 279]]\n",
      "\n",
      "\n",
      "There are 37 laptops available within that price range.\n"
     ]
    }
   ],
   "source": [
    "# Testing Part 10\n",
    "inventory = Inventory('laptops.csv')\n",
    "laptops = inventory.check_range_fast(200, 280)\n",
    "\n",
    "print(laptops)\n",
    "print(\"\\n\")\n",
    "print(\"There are {} laptops available within that price range.\".format(len(laptops)))"
   ]
  },
  {
   "cell_type": "code",
   "execution_count": null,
   "metadata": {},
   "outputs": [],
   "source": []
  }
 ],
 "metadata": {
  "kernelspec": {
   "display_name": "Python 3",
   "language": "python",
   "name": "python3"
  },
  "language_info": {
   "codemirror_mode": {
    "name": "ipython",
    "version": 3
   },
   "file_extension": ".py",
   "mimetype": "text/x-python",
   "name": "python",
   "nbconvert_exporter": "python",
   "pygments_lexer": "ipython3",
   "version": "3.8.3"
  }
 },
 "nbformat": 4,
 "nbformat_minor": 4
}
