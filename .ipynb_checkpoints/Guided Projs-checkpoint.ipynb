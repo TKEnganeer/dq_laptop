{
 "cells": [
  {
   "cell_type": "markdown",
   "metadata": {},
   "source": [
    "\"\"\" Guided Project: Building Fast Queries on a CSV\"\"\"\n",
    "My 2nd Guided project where I use time and space complexity algorithms to analyze the inventory of a online laptop store "
   ]
  },
  {
   "cell_type": "code",
   "execution_count": 38,
   "metadata": {},
   "outputs": [
    {
     "name": "stdout",
     "output_type": "stream",
     "text": [
      "['Id', 'Company', 'Product', 'TypeName', 'Inches', 'ScreenResolution', 'Cpu', 'Ram', 'Memory', 'Gpu', 'OpSys', 'Weight', 'Price']\n",
      "['6571244', 'Apple', 'MacBook Pro', 'Ultrabook', '13.3', 'IPS Panel Retina Display 2560x1600', 'Intel Core i5 2.3GHz', '8GB', '128GB SSD', 'Intel Iris Plus Graphics 640', 'macOS', '1.37kg', '1339']\n",
      "['7287764', 'Apple', 'Macbook Air', 'Ultrabook', '13.3', '1440x900', 'Intel Core i5 1.8GHz', '8GB', '128GB Flash Storage', 'Intel HD Graphics 6000', 'macOS', '1.34kg', '898']\n",
      "['3362737', 'HP', '250 G6', 'Notebook', '15.6', 'Full HD 1920x1080', 'Intel Core i5 7200U 2.5GHz', '8GB', '256GB SSD', 'Intel HD Graphics 620', 'No OS', '1.86kg', '575']\n",
      "['9722156', 'Apple', 'MacBook Pro', 'Ultrabook', '15.4', 'IPS Panel Retina Display 2880x1800', 'Intel Core i7 2.7GHz', '16GB', '512GB SSD', 'AMD Radeon Pro 455', 'macOS', '1.83kg', '2537']\n",
      "['8550527', 'Apple', 'MacBook Pro', 'Ultrabook', '13.3', 'IPS Panel Retina Display 2560x1600', 'Intel Core i5 3.1GHz', '8GB', '256GB SSD', 'Intel Iris Plus Graphics 650', 'macOS', '1.37kg', '1803']\n"
     ]
    }
   ],
   "source": [
    "# Page 1/10\n",
    "# Guided project wit the aid of Dataquest Labs, inc \n",
    "import csv\n",
    "with open('C:/Users/TimKa/OneDrive/Data Eng Study/Guided Projs/laptops.csv') as file:\n",
    "    row = list(csv.reader(file))\n",
    "    header = row[0]\n",
    "    rows = row[1:]\n",
    "    \n",
    "    print(header)\n",
    "    for i in range(5):\n",
    "        print(rows[i])\n",
    "    #print(rows[:5])\n",
    "    \n",
    "    \n"
   ]
  },
  {
   "cell_type": "code",
   "execution_count": 39,
   "metadata": {},
   "outputs": [
    {
     "name": "stdout",
     "output_type": "stream",
     "text": [
      "['Id', 'Company', 'Product', 'TypeName', 'Inches', 'ScreenResolution', 'Cpu', 'Ram', 'Memory', 'Gpu', 'OpSys', 'Weight', 'Price']\n",
      "1303\n"
     ]
    }
   ],
   "source": [
    "'''Page 2/10'''\n",
    "class Inventory():\n",
    "    def __init__(self, csv_filename):\n",
    "        with open('C:/Users/TimKa/OneDrive/Data Eng Study/Guided Projs/laptops.csv') as file:\n",
    "            row = list(csv.reader(file)) # step 3\n",
    "            self.header = row[0]\n",
    "            self.rows = row[1:] # step 4\n",
    "            for row in self.rows:\n",
    "                row[-1] = int(row[-1]) # step 5\n",
    "\n",
    "Inventory('C:/Users/TimKa/OneDrive/Data Eng Study/Guided Projs/laptops.csv') #step 6\n",
    "\n",
    "print(header) #step 7\n",
    "print(len(rows))# step 8"
   ]
  },
  {
   "cell_type": "code",
   "execution_count": 49,
   "metadata": {},
   "outputs": [
    {
     "name": "stdout",
     "output_type": "stream",
     "text": [
      "['3362737', 'HP', '250 G6', 'Notebook', '15.6', 'Full HD 1920x1080', 'Intel Core i5 7200U 2.5GHz', '8GB', '256GB SSD', 'Intel HD Graphics 620', 'No OS', '1.86kg', 575]\n",
      "None\n"
     ]
    }
   ],
   "source": [
    "'''Page 3/10'''\n",
    "class Inventory():\n",
    "    \n",
    "    def __init__(self, csv_filename):\n",
    "        with open('C:/Users/TimKa/OneDrive/Data Eng Study/Guided Projs/laptops.csv') as file:\n",
    "            rows = list(csv.reader(file)) \n",
    "            self.header = rows[0]\n",
    "            self.rows = rows[1:] \n",
    "            for row in self.rows:\n",
    "                row[-1] = int(row[-1]) \n",
    "    \n",
    "    def get_laptop_from_id(self, laptop_id):    # step 1\n",
    "        for row in self.rows: #step 2\n",
    "            if row[0] == laptop_id:\n",
    "                return row \n",
    "        return None    # step 3\n",
    "            \n",
    "    \n",
    "inventory = Inventory('C:/Users/TimKa/OneDrive/Data Eng Study/Guided Projs/laptops.csv') #step 4\n",
    "\n",
    "print(inventory.get_laptop_from_id('3362737')) # step 5\n",
    "print(inventory.get_laptop_from_id('3362736')) # step 6"
   ]
  },
  {
   "cell_type": "code",
   "execution_count": 55,
   "metadata": {},
   "outputs": [
    {
     "name": "stdout",
     "output_type": "stream",
     "text": [
      "['3362737', 'HP', '250 G6', 'Notebook', '15.6', 'Full HD 1920x1080', 'Intel Core i5 7200U 2.5GHz', '8GB', '256GB SSD', 'Intel HD Graphics 620', 'No OS', '1.86kg', 575]\n",
      "None\n"
     ]
    }
   ],
   "source": [
    "'''Page 4/10'''\n",
    "class Inventory():\n",
    "    \n",
    "    def __init__(self, csv_filename):\n",
    "        with open('C:/Users/TimKa/OneDrive/Data Eng Study/Guided Projs/laptops.csv') as file:\n",
    "            rows = list(csv.reader(file)) \n",
    "            self.header = rows[0]\n",
    "            self.rows = rows[1:] \n",
    "            for row in self.rows:\n",
    "                row[-1] = int(row[-1]) \n",
    "            self.id_to_row = {} #step 1.\n",
    "            for row in self.rows:\n",
    "                self.id_to_row[row[0]]= row # step 2\n",
    "    \n",
    "    def get_laptop_from_id(self, laptop_id):    \n",
    "        for row in self.rows: \n",
    "            if row[0] == laptop_id:\n",
    "                return row \n",
    "        return None    \n",
    "    \n",
    "    def get_laptop_from_id_fast(self, laptop_id): # step 3\n",
    "        if laptop_id in self.id_to_row: # step 4.1\n",
    "                return self.id_to_row[laptop_id]\n",
    "        return None # step 4.2\n",
    "      \n",
    "inventory = Inventory('C:/Users/TimKa/OneDrive/Data Eng Study/Guided Projs/laptops.csv') #step 5\n",
    "\n",
    "print(inventory.get_laptop_from_id_fast('3362737')) # step 6\n",
    "\n",
    "print(inventory.get_laptop_from_id('3362736')) # step 7"
   ]
  },
  {
   "cell_type": "code",
   "execution_count": 61,
   "metadata": {},
   "outputs": [
    {
     "name": "stdout",
     "output_type": "stream",
     "text": [
      "0.6530356407165527\n",
      "0.002999544143676758\n"
     ]
    }
   ],
   "source": [
    "'''Page 5/10'''\n",
    "\n",
    "import time # step 1\n",
    "import random # step 2\n",
    " \n",
    "ids = [str(random.randint(1000000,9999999)) for _ in range(10000)]\n",
    "\n",
    "inventory = Inventory('C:/Users/TimKa/OneDrive/Data Eng Study/Guided Projs/laptops.csv') #step 4\n",
    "\n",
    "total_time_no_dict = 0 # step 5\n",
    "for str_numb in ids:\n",
    "    start = time.time()\n",
    "    inventory.get_laptop_from_id(str_numb)\n",
    "    end = time.time()\n",
    "    elapsed = end - start\n",
    "    total_time_no_dict += elapsed # step 6.4\n",
    "\n",
    "total_time_dict = 0 # step 7\n",
    "for str_numb in ids:\n",
    "    start = time.time()\n",
    "    inventory.get_laptop_from_id_fast(str_numb)\n",
    "    end = time.time()\n",
    "    elapsed = end - start\n",
    "    total_time_dict += elapsed\n",
    "    \n",
    "print(total_time_no_dict) #step 9\n",
    "print(total_time_dict)"
   ]
  },
  {
   "cell_type": "code",
   "execution_count": 84,
   "metadata": {},
   "outputs": [
    {
     "name": "stdout",
     "output_type": "stream",
     "text": [
      "True\n",
      "False\n"
     ]
    }
   ],
   "source": [
    "'''Page 6/10'''\n",
    "\n",
    "\n",
    "class Inventory():\n",
    "    \n",
    "    def __init__(self, csv_filename):\n",
    "        with open('C:/Users/TimKa/OneDrive/Data Eng Study/Guided Projs/laptops.csv') as file:\n",
    "            rows = list(csv.reader(file)) \n",
    "            self.header = rows[0]\n",
    "            self.rows = rows[1:] \n",
    "            for row in self.rows:\n",
    "                row[-1] = int(row[-1]) \n",
    "            self.id_to_row = {} #step 1.\n",
    "            for row in self.rows:\n",
    "                self.id_to_row[row[0]]= row # step 2\n",
    "    \n",
    "    def get_laptop_from_id(self, laptop_id):    \n",
    "        for row in self.rows: \n",
    "            if row[0] == laptop_id:\n",
    "                return row \n",
    "        return None    \n",
    "    \n",
    "    def get_laptop_from_id_fast(self, laptop_id): # step 3\n",
    "        if laptop_id in self.id_to_row: \n",
    "                return self.id_to_row[laptop_id]\n",
    "        return None\n",
    "    \n",
    "    def check_promotion_dollars(self, dollars):   # step 1\n",
    "        for row in self.rows:\n",
    "            if  row[-1] == dollars:\n",
    "                return True                       # step 2\n",
    "        for price in self.rows:\n",
    "            for price_two in self.rows:\n",
    "                if price[-1] + price_two[-1] == dollars:\n",
    "                    return True                   # step 3\n",
    "        return False                              # step 4\n",
    "    \n",
    "    \n",
    "inventory = Inventory('C:/Users/TimKa/OneDrive/Data Eng Study/Guided Projs/laptops.csv') #step 5\n",
    "\n",
    "print(inventory.check_promotion_dollars(1000)) # step 6\n",
    "\n",
    "\n",
    "print(inventory.check_promotion_dollars(442)) # step 7"
   ]
  },
  {
   "cell_type": "code",
   "execution_count": 122,
   "metadata": {},
   "outputs": [
    {
     "ename": "SyntaxError",
     "evalue": "invalid syntax (<ipython-input-122-0fb88504c17e>, line 22)",
     "output_type": "error",
     "traceback": [
      "\u001b[1;36m  File \u001b[1;32m\"<ipython-input-122-0fb88504c17e>\"\u001b[1;36m, line \u001b[1;32m22\u001b[0m\n\u001b[1;33m    def get_laptop_from_id(self, laptop_id):\u001b[0m\n\u001b[1;37m    ^\u001b[0m\n\u001b[1;31mSyntaxError\u001b[0m\u001b[1;31m:\u001b[0m invalid syntax\n"
     ]
    }
   ],
   "source": [
    "'''Page 7/10'''\n",
    "\n",
    "class Inventory():\n",
    "    \n",
    "    def __init__(self, csv_filename):\n",
    "        with open('C:/Users/TimKa/OneDrive/Data Eng Study/Guided Projs/laptops.csv') as file:\n",
    "            rows = list(csv.reader(file)) \n",
    "            self.header = rows[0]\n",
    "            self.rows = rows[1:] \n",
    "            for row in self.rows:\n",
    "                row[-1] = int(row[-1]) \n",
    "            \n",
    "            self.id_to_row = {} \n",
    "            for row in self.rows:\n",
    "                self.id_to_row[row[0]]= row \n",
    "            \n",
    "            self.prices = set() #step 1\n",
    "            for row in self.rows: # the row has stored the data for each laptop as a list\n",
    "                self.prices.add(int(row[-1]) # step 2\n",
    "                \n",
    "            \n",
    "    def get_laptop_from_id(self, laptop_id):    \n",
    "        for row in self.rows: \n",
    "            if row[0] == laptop_id:\n",
    "                return row \n",
    "        return None    \n",
    "    \n",
    "    def get_laptop_from_id_fast(self, laptop_id): \n",
    "        if laptop_id in self.id_to_row: \n",
    "                return self.id_to_row[laptop_id]\n",
    "        return None\n",
    "    \n",
    "    def check_promotion_dollars(self, dollars):   \n",
    "        for row in self.rows:\n",
    "            if  row[-1] == dollars:\n",
    "                return True                     \n",
    "        for price in self.rows:\n",
    "            for price_two in self.rows:\n",
    "                if price[-1] + price_two[-1] == dollars:\n",
    "                    return True                   \n",
    "        return False                            \n",
    "    \n",
    "    def check_promotion_dollars_fast(self, dollars):\n",
    "        if dollars in self.prices:\n",
    "            return True\n",
    "        for price in self.prices:\n",
    "            if dollars - int(price) in self.prices:\n",
    "                return True                   \n",
    "        return False  \n",
    "    \n",
    "inventory = Inventory('C:/Users/TimKa/OneDrive/Data Eng Study/Guided Projs/laptops.csv') #step 5\n",
    "\n",
    "# print(inventory.check_promotion_dollars_fast(1000)) # step 8\n",
    "\n",
    "print(int(prices[5])+int(prices[2]))\n",
    "\n",
    "# print(inventory.check_promotion_dollars_fast(442)) # step 9"
   ]
  },
  {
   "cell_type": "code",
   "execution_count": 123,
   "metadata": {},
   "outputs": [
    {
     "ename": "TypeError",
     "evalue": "unsupported operand type(s) for -: 'str' and 'int'",
     "output_type": "error",
     "traceback": [
      "\u001b[1;31m---------------------------------------------------------------------------\u001b[0m",
      "\u001b[1;31mTypeError\u001b[0m                                 Traceback (most recent call last)",
      "\u001b[1;32m<ipython-input-123-24255560fbde>\u001b[0m in \u001b[0;36m<module>\u001b[1;34m\u001b[0m\n\u001b[0;32m     18\u001b[0m \u001b[1;32mfor\u001b[0m \u001b[0mvalue\u001b[0m \u001b[1;32min\u001b[0m \u001b[0mprices\u001b[0m\u001b[1;33m:\u001b[0m\u001b[1;33m\u001b[0m\u001b[1;33m\u001b[0m\u001b[0m\n\u001b[0;32m     19\u001b[0m     \u001b[0mstart\u001b[0m \u001b[1;33m=\u001b[0m \u001b[0mtime\u001b[0m\u001b[1;33m.\u001b[0m\u001b[0mtime\u001b[0m\u001b[1;33m(\u001b[0m\u001b[1;33m)\u001b[0m\u001b[1;33m\u001b[0m\u001b[1;33m\u001b[0m\u001b[0m\n\u001b[1;32m---> 20\u001b[1;33m     \u001b[0minventory\u001b[0m\u001b[1;33m.\u001b[0m\u001b[0mcheck_promotion_dollars_fast\u001b[0m\u001b[1;33m(\u001b[0m\u001b[0mvalue\u001b[0m\u001b[1;33m)\u001b[0m\u001b[1;33m\u001b[0m\u001b[1;33m\u001b[0m\u001b[0m\n\u001b[0m\u001b[0;32m     21\u001b[0m     \u001b[0mend\u001b[0m \u001b[1;33m=\u001b[0m \u001b[0mtime\u001b[0m\u001b[1;33m.\u001b[0m\u001b[0mtime\u001b[0m\u001b[1;33m(\u001b[0m\u001b[1;33m)\u001b[0m\u001b[1;33m\u001b[0m\u001b[1;33m\u001b[0m\u001b[0m\n\u001b[0;32m     22\u001b[0m     \u001b[0mtotal_time_set\u001b[0m \u001b[1;33m+=\u001b[0m \u001b[1;33m(\u001b[0m\u001b[0mend\u001b[0m\u001b[1;33m-\u001b[0m\u001b[0mstart\u001b[0m\u001b[1;33m)\u001b[0m\u001b[1;33m\u001b[0m\u001b[1;33m\u001b[0m\u001b[0m\n",
      "\u001b[1;32m<ipython-input-121-6fbdee7163a7>\u001b[0m in \u001b[0;36mcheck_promotion_dollars_fast\u001b[1;34m(self, dollars)\u001b[0m\n\u001b[0;32m     45\u001b[0m             \u001b[1;32mreturn\u001b[0m \u001b[1;32mTrue\u001b[0m\u001b[1;33m\u001b[0m\u001b[1;33m\u001b[0m\u001b[0m\n\u001b[0;32m     46\u001b[0m         \u001b[1;32mfor\u001b[0m \u001b[0mprice\u001b[0m \u001b[1;32min\u001b[0m \u001b[0mself\u001b[0m\u001b[1;33m.\u001b[0m\u001b[0mprices\u001b[0m\u001b[1;33m:\u001b[0m\u001b[1;33m\u001b[0m\u001b[1;33m\u001b[0m\u001b[0m\n\u001b[1;32m---> 47\u001b[1;33m             \u001b[1;32mif\u001b[0m \u001b[0mdollars\u001b[0m \u001b[1;33m-\u001b[0m \u001b[0mint\u001b[0m\u001b[1;33m(\u001b[0m\u001b[0mprice\u001b[0m\u001b[1;33m)\u001b[0m \u001b[1;32min\u001b[0m \u001b[0mself\u001b[0m\u001b[1;33m.\u001b[0m\u001b[0mprices\u001b[0m\u001b[1;33m:\u001b[0m\u001b[1;33m\u001b[0m\u001b[1;33m\u001b[0m\u001b[0m\n\u001b[0m\u001b[0;32m     48\u001b[0m                 \u001b[1;32mreturn\u001b[0m \u001b[1;32mTrue\u001b[0m\u001b[1;33m\u001b[0m\u001b[1;33m\u001b[0m\u001b[0m\n\u001b[0;32m     49\u001b[0m         \u001b[1;32mreturn\u001b[0m \u001b[1;32mFalse\u001b[0m\u001b[1;33m\u001b[0m\u001b[1;33m\u001b[0m\u001b[0m\n",
      "\u001b[1;31mTypeError\u001b[0m: unsupported operand type(s) for -: 'str' and 'int'"
     ]
    }
   ],
   "source": [
    "import time # step 1\n",
    "import random # step 2\n",
    " \n",
    "prices = [str(random.randint(100,5000)) for _ in range(100)] # step 1\n",
    "\n",
    "inventory = Inventory('C:/Users/TimKa/OneDrive/Data Eng Study/Guided Projs/laptops.csv') # step 2\n",
    "\n",
    "total_time_no_set = 0 # step 3\n",
    "\n",
    "for value in prices:\n",
    "    start = time.time()               # 4.1\n",
    "    inventory.check_promotion_dollars(value)    # 4.2\n",
    "    end = time.time()                 # 4.3\n",
    "    total_time_no_set += (end-start) # 4.4\n",
    "    \n",
    "total_time_set = 0 # step 5\n",
    "\n",
    "for value in prices:\n",
    "    start = time.time()\n",
    "    inventory.check_promotion_dollars_fast(value)\n",
    "    end = time.time()\n",
    "    total_time_set += (end-start)\n",
    "    \n",
    "\n",
    "print(total_time_no_set) # step 6\n",
    "\n",
    "# print(total_time_set) # step 7"
   ]
  },
  {
   "cell_type": "code",
   "execution_count": 106,
   "metadata": {},
   "outputs": [
    {
     "name": "stdout",
     "output_type": "stream",
     "text": [
      "683\n",
      "-1\n"
     ]
    }
   ],
   "source": [
    "'''Page 9/10'''\n",
    "def row_price(row):\n",
    "    return row[-1]\n",
    "\n",
    "class Inventory():\n",
    "    \n",
    "    def __init__(self, csv_filename):\n",
    "        with open('C:/Users/TimKa/OneDrive/Data Eng Study/Guided Projs/laptops.csv') as file:\n",
    "            rows = list(csv.reader(file)) \n",
    "            self.header = rows[0]\n",
    "            self.rows = rows[1:] \n",
    "            for row in self.rows:\n",
    "                row[-1] = int(row[-1]) \n",
    "            \n",
    "            self.id_to_row = {} \n",
    "            for row in self.rows:\n",
    "                self.id_to_row[row[0]]= row \n",
    "            \n",
    "            self.prices = set() #step 1\n",
    "            for row in self.rows: # the row has stored the data for each laptop as a list\n",
    "                self.prices.add(row[-1]) # step 2\n",
    "            \n",
    "            self.rows_by_price = sorted(self.rows, key=row_price)\n",
    "\n",
    "\n",
    "    def get_laptop_from_id(self, laptop_id):    \n",
    "        for row in self.rows: \n",
    "            if row[0] == laptop_id:\n",
    "                return row \n",
    "        return None    \n",
    "    \n",
    "    def get_laptop_from_id_fast(self, laptop_id): \n",
    "        if laptop_id in self.id_to_row: \n",
    "                return self.id_to_row[laptop_id]\n",
    "        return None\n",
    "    \n",
    "    def check_promotion_dollars(self, dollars):   \n",
    "        for row in self.rows:\n",
    "            if  row[-1] == dollars:\n",
    "                return True                     \n",
    "        for price in self.rows:\n",
    "            for price_two in self.rows:\n",
    "                if price[-1] + price_two[-1] == dollars:\n",
    "                    return True                   \n",
    "        return False                            \n",
    "    \n",
    "    def check_promotion_dollars_fast(self, dollars):\n",
    "        if dollars in self.prices:\n",
    "            return True\n",
    "        for price in self.prices:\n",
    "            if dollars - price in self.prices:\n",
    "                return True                   \n",
    "        return False\n",
    "    \n",
    "    def find_first_laptop_more_expensive(self, target_price):\n",
    "        range_start = 0                                   \n",
    "        range_end = len(self.rows_by_price) - 1                       \n",
    "        while range_start < range_end:\n",
    "            range_middle = (range_end + range_start) // 2  \n",
    "            price = self.rows_by_price[range_middle][-1]\n",
    "            if price > target_price:                            \n",
    "                range_end = range_middle                                   \n",
    "            else:                                          \n",
    "                range_start = range_middle + 1 \n",
    "        if self.rows_by_price[range_start][-1] < target_price:                  \n",
    "            return -1                                      \n",
    "        return range_start\n",
    "        \n",
    "        \n",
    "inventory = Inventory('C:/Users/TimKa/OneDrive/Data Eng Study/Guided Projs/laptops.csv')\n",
    "\n",
    "print(inventory.find_first_laptop_more_expensive(1000))\n",
    "print(inventory.find_first_laptop_more_expensive(10000))"
   ]
  },
  {
   "cell_type": "code",
   "execution_count": null,
   "metadata": {},
   "outputs": [],
   "source": []
  }
 ],
 "metadata": {
  "kernelspec": {
   "display_name": "Python 3",
   "language": "python",
   "name": "python3"
  },
  "language_info": {
   "codemirror_mode": {
    "name": "ipython",
    "version": 3
   },
   "file_extension": ".py",
   "mimetype": "text/x-python",
   "name": "python",
   "nbconvert_exporter": "python",
   "pygments_lexer": "ipython3",
   "version": "3.8.3"
  }
 },
 "nbformat": 4,
 "nbformat_minor": 4
}
